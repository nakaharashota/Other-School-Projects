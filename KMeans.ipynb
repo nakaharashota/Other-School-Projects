{
 "cells": [
  {
   "cell_type": "markdown",
   "metadata": {},
   "source": [
    "# K-Means法をスクラッチで実装"
   ]
  },
  {
   "cell_type": "markdown",
   "metadata": {},
   "source": [
    "K-Means法は、初期値に依存するため、偏ったクラスタリングをしてしまう問題があるが、<br>\n",
    "偏った場合はリトライするようオリジナルのアルゴリズムに改良"
   ]
  },
  {
   "cell_type": "code",
   "execution_count": 1,
   "metadata": {
    "collapsed": true
   },
   "outputs": [],
   "source": [
    "%matplotlib inline\n",
    "from __future__ import print_function\n",
    "import numpy as np\n",
    "import matplotlib.pyplot as plt"
   ]
  },
  {
   "cell_type": "markdown",
   "metadata": {},
   "source": [
    "## ダミーデータ作成"
   ]
  },
  {
   "cell_type": "code",
   "execution_count": 2,
   "metadata": {
    "collapsed": true
   },
   "outputs": [],
   "source": [
    "def generate_2dim_normal(mean, variance, covariance, sample_size):\n",
    "    cov = [[variance,covariance],\n",
    "           [covariance,variance]]\n",
    "    return np.random.multivariate_normal(mean, cov, sample_size)"
   ]
  },
  {
   "cell_type": "code",
   "execution_count": 3,
   "metadata": {},
   "outputs": [],
   "source": [
    "cluster1 = generate_2dim_normal(mean = [0, 8], variance=1, covariance=0, sample_size=500)\n",
    "cluster2 = generate_2dim_normal(mean = [-1, 0], variance=1, covariance=0, sample_size=500)\n",
    "cluster3 = generate_2dim_normal(mean = [10, 10], variance=1, covariance=0, sample_size=300)\n",
    "cluster4 = generate_2dim_normal(mean = [5, 5.5], variance=0.8, covariance=-0.1, sample_size=200)\n",
    "data = np.vstack((cluster1, cluster2, cluster3, cluster4))"
   ]
  },
  {
   "cell_type": "code",
   "execution_count": 4,
   "metadata": {},
   "outputs": [
    {
     "data": {
      "text/plain": [
       "Text(0,0.5,'x2')"
      ]
     },
     "execution_count": 4,
     "metadata": {},
     "output_type": "execute_result"
    },
    {
     "data": {
      "image/png": "[encoded data removed]",
      "text/plain": [
       "<matplotlib.figure.Figure at 0x113141780>"
      ]
     },
     "metadata": {},
     "output_type": "display_data"
    }
   ],
   "source": [
    "fig = plt.figure()\n",
    "ax = fig.add_subplot(1,1,1)\n",
    "ax.scatter(data[:,0], data[:,1])\n",
    "ax.set_title(u\" scatter plot\")\n",
    "ax.set_xlabel(\"x1\")\n",
    "ax.set_ylabel(\"x2\")"
   ]
  },
  {
   "cell_type": "markdown",
   "metadata": {},
   "source": [
    "# K-Means法の実装"
   ]
  },
  {
   "cell_type": "code",
   "execution_count": 5,
   "metadata": {
    "collapsed": true
   },
   "outputs": [],
   "source": [
    "# それぞれのデータとシードの値の距離を計算\n",
    "def get_cluster_id_by_euclidian_distance(data, center):\n",
    "\n",
    "    #まずデータ点 x シードの数の全て0の行列を用意しておきます\n",
    "    result = np.zeros([len(data), len(center)])\n",
    "\n",
    "    #シードごとに、各データ点との距離を計算し、resultに格納します\n",
    "    for i in range(len(center)):\n",
    "        square_total = ((data - center[i])**2).sum(axis=1)\n",
    "        euclidian_distance = np.sqrt(square_total)\n",
    "        result[:, i] = euclidian_distance\n",
    "\n",
    "    #一番近いシード番号を取得します。\n",
    "    cluster_labels = result.argmin(axis=1)\n",
    "    return cluster_labels\n",
    "\n",
    "\n",
    "# 割り付けたクラスターごとに平均を計算\n",
    "def update_center(prev_center, cluster_labels):\n",
    "    new_center = np.zeros(prev_center.shape)\n",
    "    for i in range(cluster_num):\n",
    "        new_center[i, :] = data[cluster_labels==i].mean(axis=0)\n",
    "    return new_center\n",
    "\n",
    "\n",
    "# 可視化\n",
    "def cluter_visualize(data, cluster_labels):\n",
    "\n",
    "    fig = plt.figure()\n",
    "    ax = fig.add_subplot(1,1,1)\n",
    "    colorlist = [\"r\", \"g\", \"b\", \"c\", \"m\", \"y\", \"k\", \"w\"]\n",
    "    cluster_ids = list(set(cluster_labels))\n",
    "    for k in range(len(cluster_ids)):\n",
    "        cluster_id = cluster_ids[k]\n",
    "        label_ = \"clutser = %d\"%cluster_id\n",
    "        data_by_cluster = data[cluster_labels == cluster_id]\n",
    "        ax.scatter(data_by_cluster[:,0], data_by_cluster[:,1], c=colorlist[k], label = label_)\n",
    "\n",
    "    ax.set_title(u\"Clustering\")\n",
    "    ax.set_xlabel(\"x1\")\n",
    "    ax.set_ylabel(\"x2\")\n",
    "    ax.legend(loc='lower right')\n",
    "\n",
    "#Kmeans法\n",
    "def Kmeans(data, cluster_num, max_iter,log):\n",
    "\n",
    "    # 最初のシード\n",
    "    seed_idx = np.random.randint(len(data), size=cluster_num)\n",
    "    init_center = data[seed_idx] \n",
    "    # print(\"最初のシード\")\n",
    "\n",
    "    for i in range(max_iter):\n",
    "        '''2)各データと各シードを比較し、最も近いシードと同じクラスターに分類します'''\n",
    "        # クラスター番号を取得\n",
    "        cluster_labels = get_cluster_id_by_euclidian_distance(data, init_center)\n",
    "\n",
    "        '''3)k個のクラスターそれぞれで重心を求め、それを新たなシードとして更新します'''\n",
    "        # 新たなシードとして更新\n",
    "        new_center = update_center(prev_center=init_center, cluster_labels=cluster_labels)\n",
    "        \n",
    "        # 更新前後のシードの距離の推移\n",
    "        distance = np.sqrt(np.sum((new_center - init_center)**2))\n",
    "        #ログを出力するかどうか\n",
    "        if log:\n",
    "            print(\"distance is %.3f\" % (distance))\n",
    "        \n",
    "        # 新たなシードを\n",
    "        init_center = new_center\n",
    "        \n",
    "    # 更新後のクラスター番号\n",
    "    updated_cluster_labels = get_cluster_id_by_euclidian_distance(data, new_center)\n",
    "    \n",
    "    return data, updated_cluster_labels\n",
    "    cluter_visualize(data, updated_cluster_labels)\n",
    "\n",
    "#オリジナルのKmeans法\n",
    "def myKmeans(data,cluster_num,max_iter,log,cnt,max_retry):\n",
    "    for v in range(max_retry):\n",
    "        data, updated_cluster_labels = Kmeans(data, cluster_num, max_iter,log)\n",
    "\n",
    "        # retry終了条件準備\n",
    "        cluster_cnt = []\n",
    "        for v in range(cluster_num):\n",
    "            cluster_cnt.append(sum(updated_cluster_labels==v)) \n",
    "\n",
    "        # retry終了条件（各クラスタのデータ数がcnt以下）を満たしていれば、break\n",
    "        cluster_cnt = np.array(cluster_cnt)\n",
    "        if np.all(cluster_cnt < cnt):\n",
    "            break\n",
    "\n",
    "        #ログを出力するかどうか\n",
    "        if log:\n",
    "            # 条件満たしてなければ、各クラスタの対象数を出力して、retry\n",
    "            print(\"▼retry\",cluster_cnt,\"※over%d\"%cnt)        \n",
    "\n",
    "    cluter_visualize(data, updated_cluster_labels)"
   ]
  },
  {
   "cell_type": "markdown",
   "metadata": {},
   "source": [
    "### 普通のK-Means法を実行"
   ]
  },
  {
   "cell_type": "markdown",
   "metadata": {},
   "source": [
    "初期値に依存するアルゴリズムのため、10回に１回くらい、偏ったクラスタリングをしてしまう"
   ]
  },
  {
   "cell_type": "code",
   "execution_count": 6,
   "metadata": {},
   "outputs": [
    {
     "name": "stdout",
     "output_type": "stream",
     "text": [
      "distance is 2.441\n",
      "distance is 0.695\n",
      "distance is 0.438\n",
      "distance is 0.228\n",
      "distance is 0.125\n",
      "distance is 0.070\n",
      "distance is 0.025\n",
      "distance is 0.021\n",
      "distance is 0.029\n",
      "distance is 0.018\n"
     ]
    },
    {
     "data": {
      "image/png": "[encoded data removed]",
      "text/plain": [
       "<matplotlib.figure.Figure at 0x11b617f98>"
      ]
     },
     "metadata": {},
     "output_type": "display_data"
    }
   ],
   "source": [
    "#パラメータをセット\n",
    "data = data\n",
    "cluster_num = 4\n",
    "max_iter = 10\n",
    "log = True #ログを出力する場合はTrue、出力しない場合はFalse\n",
    "\n",
    "#実行\n",
    "data, updated_cluster_labels = Kmeans(data,cluster_num,max_iter,log)\n",
    "cluter_visualize(data, updated_cluster_labels)"
   ]
  },
  {
   "cell_type": "markdown",
   "metadata": {},
   "source": [
    "### オリジナルのK-Means法を実行"
   ]
  },
  {
   "cell_type": "markdown",
   "metadata": {},
   "source": [
    "初期値依存の問題を解決するため、偏ったクラスタリングをした時は、リトライするアルゴリズムに改良"
   ]
  },
  {
   "cell_type": "code",
   "execution_count": 9,
   "metadata": {
    "scrolled": false
   },
   "outputs": [
    {
     "name": "stdout",
     "output_type": "stream",
     "text": [
      "distance is 4.833\n",
      "distance is 0.577\n",
      "distance is 0.167\n",
      "distance is 0.107\n",
      "distance is 0.050\n",
      "distance is 0.051\n",
      "distance is 0.035\n",
      "distance is 0.016\n",
      "distance is 0.011\n",
      "distance is 0.000\n",
      "▼retry [198 158 148 996] ※over550\n",
      "distance is 5.627\n",
      "distance is 1.755\n",
      "distance is 0.031\n",
      "distance is 0.000\n",
      "distance is 0.000\n",
      "distance is 0.000\n",
      "distance is 0.000\n",
      "distance is 0.000\n",
      "distance is 0.000\n",
      "distance is 0.000\n"
     ]
    },
    {
     "data": {
      "image/png": "[encoded data removed]",
      "text/plain": [
       "<matplotlib.figure.Figure at 0x11b67f4a8>"
      ]
     },
     "metadata": {},
     "output_type": "display_data"
    }
   ],
   "source": [
    "# オリジナルのKeans法を実行\n",
    "\n",
    "#パラメータをセット\n",
    "data = data\n",
    "cluster_num = 4\n",
    "max_iter = 10\n",
    "log = True #ログを出力する場合はTrue、出力しない場合はFalse\n",
    "cnt = 550 #偏ったクラスタがないか判断する域値（例：cnt=550 クラスタ内でデータ数が550以内ならOK）\n",
    "max_retry = 10 #リトライする回数（最大）\n",
    "\n",
    "#実行\n",
    "myKmeans(data,cluster_num,max_iter,log,cnt,max_retry)"
   ]
  },
  {
   "cell_type": "code",
   "execution_count": null,
   "metadata": {
    "collapsed": true
   },
   "outputs": [],
   "source": []
  },
  {
   "cell_type": "code",
   "execution_count": null,
   "metadata": {
    "collapsed": true
   },
   "outputs": [],
   "source": []
  }
 ],
 "metadata": {
  "kernelspec": {
   "display_name": "Python 3",
   "language": "python",
   "name": "python3"
  },
  "language_info": {
   "codemirror_mode": {
    "name": "ipython",
    "version": 3
   },
   "file_extension": ".py",
   "mimetype": "text/x-python",
   "name": "python",
   "nbconvert_exporter": "python",
   "pygments_lexer": "ipython3",
   "version": "3.6.3"
  }
 },
 "nbformat": 4,
 "nbformat_minor": 1
}
